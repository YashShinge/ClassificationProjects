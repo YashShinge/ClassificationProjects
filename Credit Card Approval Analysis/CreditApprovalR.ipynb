{
 "cells": [
  {
   "cell_type": "code",
   "execution_count": 1,
   "metadata": {},
   "outputs": [
    {
     "name": "stderr",
     "output_type": "stream",
     "text": [
      "randomForest 4.6-14\n",
      "Type rfNews() to see new features/changes/bug fixes.\n",
      "Warning message:\n",
      "\"package 'ggplot2' was built under R version 3.5.2\"\n",
      "Attaching package: 'ggplot2'\n",
      "\n",
      "The following object is masked from 'package:randomForest':\n",
      "\n",
      "    margin\n",
      "\n",
      "Warning message:\n",
      "\"package 'ggcorrplot' was built under R version 3.5.2\"Warning message:\n",
      "\"package 'InformationValue' was built under R version 3.5.2\"Warning message:\n",
      "\"package 'caTools' was built under R version 3.5.2\"Warning message:\n",
      "\"package 'class' was built under R version 3.5.2\""
     ]
    }
   ],
   "source": [
    "\n",
    "library(randomForest)\n",
    "library(ggplot2)\n",
    "library(ggcorrplot)\n",
    "library(InformationValue)\n",
    "library(caTools)\n",
    "library(class)"
   ]
  },
  {
   "cell_type": "code",
   "execution_count": 2,
   "metadata": {},
   "outputs": [
    {
     "data": {
      "text/html": [
       "<table>\n",
       "<thead><tr><th scope=col>V1</th><th scope=col>V2</th><th scope=col>V3</th><th scope=col>V4</th><th scope=col>V5</th><th scope=col>V6</th><th scope=col>V7</th><th scope=col>V8</th><th scope=col>V9</th><th scope=col>V10</th><th scope=col>V11</th><th scope=col>V12</th><th scope=col>V13</th><th scope=col>V14</th><th scope=col>V15</th><th scope=col>V16</th></tr></thead>\n",
       "<tbody>\n",
       "\t<tr><td>b    </td><td>30.83</td><td>0.000</td><td>u    </td><td>g    </td><td>w    </td><td>v    </td><td>1.25 </td><td>t    </td><td>t    </td><td>1    </td><td>f    </td><td>g    </td><td>00202</td><td>  0  </td><td>+    </td></tr>\n",
       "\t<tr><td>a    </td><td>58.67</td><td>4.460</td><td>u    </td><td>g    </td><td>q    </td><td>h    </td><td>3.04 </td><td>t    </td><td>t    </td><td>6    </td><td>f    </td><td>g    </td><td>00043</td><td>560  </td><td>+    </td></tr>\n",
       "\t<tr><td>a    </td><td>24.50</td><td>0.500</td><td>u    </td><td>g    </td><td>q    </td><td>h    </td><td>1.50 </td><td>t    </td><td>f    </td><td>0    </td><td>f    </td><td>g    </td><td>00280</td><td>824  </td><td>+    </td></tr>\n",
       "\t<tr><td>b    </td><td>27.83</td><td>1.540</td><td>u    </td><td>g    </td><td>w    </td><td>v    </td><td>3.75 </td><td>t    </td><td>t    </td><td>5    </td><td>t    </td><td>g    </td><td>00100</td><td>  3  </td><td>+    </td></tr>\n",
       "\t<tr><td>b    </td><td>20.17</td><td>5.625</td><td>u    </td><td>g    </td><td>w    </td><td>v    </td><td>1.71 </td><td>t    </td><td>f    </td><td>0    </td><td>f    </td><td>s    </td><td>00120</td><td>  0  </td><td>+    </td></tr>\n",
       "\t<tr><td>b    </td><td>32.08</td><td>4.000</td><td>u    </td><td>g    </td><td>m    </td><td>v    </td><td>2.50 </td><td>t    </td><td>f    </td><td>0    </td><td>t    </td><td>g    </td><td>00360</td><td>  0  </td><td>+    </td></tr>\n",
       "</tbody>\n",
       "</table>\n"
      ],
      "text/latex": [
       "\\begin{tabular}{r|llllllllllllllll}\n",
       " V1 & V2 & V3 & V4 & V5 & V6 & V7 & V8 & V9 & V10 & V11 & V12 & V13 & V14 & V15 & V16\\\\\n",
       "\\hline\n",
       "\t b     & 30.83 & 0.000 & u     & g     & w     & v     & 1.25  & t     & t     & 1     & f     & g     & 00202 &   0   & +    \\\\\n",
       "\t a     & 58.67 & 4.460 & u     & g     & q     & h     & 3.04  & t     & t     & 6     & f     & g     & 00043 & 560   & +    \\\\\n",
       "\t a     & 24.50 & 0.500 & u     & g     & q     & h     & 1.50  & t     & f     & 0     & f     & g     & 00280 & 824   & +    \\\\\n",
       "\t b     & 27.83 & 1.540 & u     & g     & w     & v     & 3.75  & t     & t     & 5     & t     & g     & 00100 &   3   & +    \\\\\n",
       "\t b     & 20.17 & 5.625 & u     & g     & w     & v     & 1.71  & t     & f     & 0     & f     & s     & 00120 &   0   & +    \\\\\n",
       "\t b     & 32.08 & 4.000 & u     & g     & m     & v     & 2.50  & t     & f     & 0     & t     & g     & 00360 &   0   & +    \\\\\n",
       "\\end{tabular}\n"
      ],
      "text/markdown": [
       "\n",
       "V1 | V2 | V3 | V4 | V5 | V6 | V7 | V8 | V9 | V10 | V11 | V12 | V13 | V14 | V15 | V16 | \n",
       "|---|---|---|---|---|---|\n",
       "| b     | 30.83 | 0.000 | u     | g     | w     | v     | 1.25  | t     | t     | 1     | f     | g     | 00202 |   0   | +     | \n",
       "| a     | 58.67 | 4.460 | u     | g     | q     | h     | 3.04  | t     | t     | 6     | f     | g     | 00043 | 560   | +     | \n",
       "| a     | 24.50 | 0.500 | u     | g     | q     | h     | 1.50  | t     | f     | 0     | f     | g     | 00280 | 824   | +     | \n",
       "| b     | 27.83 | 1.540 | u     | g     | w     | v     | 3.75  | t     | t     | 5     | t     | g     | 00100 |   3   | +     | \n",
       "| b     | 20.17 | 5.625 | u     | g     | w     | v     | 1.71  | t     | f     | 0     | f     | s     | 00120 |   0   | +     | \n",
       "| b     | 32.08 | 4.000 | u     | g     | m     | v     | 2.50  | t     | f     | 0     | t     | g     | 00360 |   0   | +     | \n",
       "\n",
       "\n"
      ],
      "text/plain": [
       "  V1 V2    V3    V4 V5 V6 V7 V8   V9 V10 V11 V12 V13 V14   V15 V16\n",
       "1 b  30.83 0.000 u  g  w  v  1.25 t  t   1   f   g   00202   0 +  \n",
       "2 a  58.67 4.460 u  g  q  h  3.04 t  t   6   f   g   00043 560 +  \n",
       "3 a  24.50 0.500 u  g  q  h  1.50 t  f   0   f   g   00280 824 +  \n",
       "4 b  27.83 1.540 u  g  w  v  3.75 t  t   5   t   g   00100   3 +  \n",
       "5 b  20.17 5.625 u  g  w  v  1.71 t  f   0   f   s   00120   0 +  \n",
       "6 b  32.08 4.000 u  g  m  v  2.50 t  f   0   t   g   00360   0 +  "
      ]
     },
     "metadata": {},
     "output_type": "display_data"
    }
   ],
   "source": [
    "data <- read.delim(\"data.txt\", sep=\",\", header = F) \n",
    "head(data)"
   ]
  },
  {
   "cell_type": "code",
   "execution_count": 3,
   "metadata": {},
   "outputs": [
    {
     "data": {
      "text/html": [
       "<table>\n",
       "<thead><tr><th scope=col>Gender</th><th scope=col>Age</th><th scope=col>Debt</th><th scope=col>Maritalstatus</th><th scope=col>BankCustomer</th><th scope=col>Education</th><th scope=col>Ethnicity</th><th scope=col>YearsEmployed</th><th scope=col>PriorDefault</th><th scope=col>Employed</th><th scope=col>CreditScore</th><th scope=col>DriversLicense</th><th scope=col>USCitizen</th><th scope=col>Zip</th><th scope=col>Income</th><th scope=col>CardApproved</th></tr></thead>\n",
       "<tbody>\n",
       "\t<tr><td>b    </td><td>30.83</td><td>0.000</td><td>u    </td><td>g    </td><td>w    </td><td>v    </td><td>1.25 </td><td>t    </td><td>t    </td><td>1    </td><td>f    </td><td>g    </td><td>00202</td><td>  0  </td><td>+    </td></tr>\n",
       "\t<tr><td>a    </td><td>58.67</td><td>4.460</td><td>u    </td><td>g    </td><td>q    </td><td>h    </td><td>3.04 </td><td>t    </td><td>t    </td><td>6    </td><td>f    </td><td>g    </td><td>00043</td><td>560  </td><td>+    </td></tr>\n",
       "\t<tr><td>a    </td><td>24.50</td><td>0.500</td><td>u    </td><td>g    </td><td>q    </td><td>h    </td><td>1.50 </td><td>t    </td><td>f    </td><td>0    </td><td>f    </td><td>g    </td><td>00280</td><td>824  </td><td>+    </td></tr>\n",
       "\t<tr><td>b    </td><td>27.83</td><td>1.540</td><td>u    </td><td>g    </td><td>w    </td><td>v    </td><td>3.75 </td><td>t    </td><td>t    </td><td>5    </td><td>t    </td><td>g    </td><td>00100</td><td>  3  </td><td>+    </td></tr>\n",
       "\t<tr><td>b    </td><td>20.17</td><td>5.625</td><td>u    </td><td>g    </td><td>w    </td><td>v    </td><td>1.71 </td><td>t    </td><td>f    </td><td>0    </td><td>f    </td><td>s    </td><td>00120</td><td>  0  </td><td>+    </td></tr>\n",
       "\t<tr><td>b    </td><td>32.08</td><td>4.000</td><td>u    </td><td>g    </td><td>m    </td><td>v    </td><td>2.50 </td><td>t    </td><td>f    </td><td>0    </td><td>t    </td><td>g    </td><td>00360</td><td>  0  </td><td>+    </td></tr>\n",
       "</tbody>\n",
       "</table>\n"
      ],
      "text/latex": [
       "\\begin{tabular}{r|llllllllllllllll}\n",
       " Gender & Age & Debt & Maritalstatus & BankCustomer & Education & Ethnicity & YearsEmployed & PriorDefault & Employed & CreditScore & DriversLicense & USCitizen & Zip & Income & CardApproved\\\\\n",
       "\\hline\n",
       "\t b     & 30.83 & 0.000 & u     & g     & w     & v     & 1.25  & t     & t     & 1     & f     & g     & 00202 &   0   & +    \\\\\n",
       "\t a     & 58.67 & 4.460 & u     & g     & q     & h     & 3.04  & t     & t     & 6     & f     & g     & 00043 & 560   & +    \\\\\n",
       "\t a     & 24.50 & 0.500 & u     & g     & q     & h     & 1.50  & t     & f     & 0     & f     & g     & 00280 & 824   & +    \\\\\n",
       "\t b     & 27.83 & 1.540 & u     & g     & w     & v     & 3.75  & t     & t     & 5     & t     & g     & 00100 &   3   & +    \\\\\n",
       "\t b     & 20.17 & 5.625 & u     & g     & w     & v     & 1.71  & t     & f     & 0     & f     & s     & 00120 &   0   & +    \\\\\n",
       "\t b     & 32.08 & 4.000 & u     & g     & m     & v     & 2.50  & t     & f     & 0     & t     & g     & 00360 &   0   & +    \\\\\n",
       "\\end{tabular}\n"
      ],
      "text/markdown": [
       "\n",
       "Gender | Age | Debt | Maritalstatus | BankCustomer | Education | Ethnicity | YearsEmployed | PriorDefault | Employed | CreditScore | DriversLicense | USCitizen | Zip | Income | CardApproved | \n",
       "|---|---|---|---|---|---|\n",
       "| b     | 30.83 | 0.000 | u     | g     | w     | v     | 1.25  | t     | t     | 1     | f     | g     | 00202 |   0   | +     | \n",
       "| a     | 58.67 | 4.460 | u     | g     | q     | h     | 3.04  | t     | t     | 6     | f     | g     | 00043 | 560   | +     | \n",
       "| a     | 24.50 | 0.500 | u     | g     | q     | h     | 1.50  | t     | f     | 0     | f     | g     | 00280 | 824   | +     | \n",
       "| b     | 27.83 | 1.540 | u     | g     | w     | v     | 3.75  | t     | t     | 5     | t     | g     | 00100 |   3   | +     | \n",
       "| b     | 20.17 | 5.625 | u     | g     | w     | v     | 1.71  | t     | f     | 0     | f     | s     | 00120 |   0   | +     | \n",
       "| b     | 32.08 | 4.000 | u     | g     | m     | v     | 2.50  | t     | f     | 0     | t     | g     | 00360 |   0   | +     | \n",
       "\n",
       "\n"
      ],
      "text/plain": [
       "  Gender Age   Debt  Maritalstatus BankCustomer Education Ethnicity\n",
       "1 b      30.83 0.000 u             g            w         v        \n",
       "2 a      58.67 4.460 u             g            q         h        \n",
       "3 a      24.50 0.500 u             g            q         h        \n",
       "4 b      27.83 1.540 u             g            w         v        \n",
       "5 b      20.17 5.625 u             g            w         v        \n",
       "6 b      32.08 4.000 u             g            m         v        \n",
       "  YearsEmployed PriorDefault Employed CreditScore DriversLicense USCitizen\n",
       "1 1.25          t            t        1           f              g        \n",
       "2 3.04          t            t        6           f              g        \n",
       "3 1.50          t            f        0           f              g        \n",
       "4 3.75          t            t        5           t              g        \n",
       "5 1.71          t            f        0           f              s        \n",
       "6 2.50          t            f        0           t              g        \n",
       "  Zip   Income CardApproved\n",
       "1 00202   0    +           \n",
       "2 00043 560    +           \n",
       "3 00280 824    +           \n",
       "4 00100   3    +           \n",
       "5 00120   0    +           \n",
       "6 00360   0    +           "
      ]
     },
     "metadata": {},
     "output_type": "display_data"
    }
   ],
   "source": [
    "#Assigning names to columns.\n",
    "colnames(data) <- c('Gender', 'Age','Debt','Maritalstatus','BankCustomer','Education','Ethnicity','YearsEmployed','PriorDefault','Employed','CreditScore','DriversLicense','USCitizen','Zip','Income','CardApproved')\n",
    "head(data)"
   ]
  },
  {
   "cell_type": "code",
   "execution_count": 4,
   "metadata": {},
   "outputs": [
    {
     "data": {
      "text/html": [
       "<dl class=dl-horizontal>\n",
       "\t<dt>Gender</dt>\n",
       "\t\t<dd>'factor'</dd>\n",
       "\t<dt>Age</dt>\n",
       "\t\t<dd>'factor'</dd>\n",
       "\t<dt>Debt</dt>\n",
       "\t\t<dd>'numeric'</dd>\n",
       "\t<dt>Maritalstatus</dt>\n",
       "\t\t<dd>'factor'</dd>\n",
       "\t<dt>BankCustomer</dt>\n",
       "\t\t<dd>'factor'</dd>\n",
       "\t<dt>Education</dt>\n",
       "\t\t<dd>'factor'</dd>\n",
       "\t<dt>Ethnicity</dt>\n",
       "\t\t<dd>'factor'</dd>\n",
       "\t<dt>YearsEmployed</dt>\n",
       "\t\t<dd>'numeric'</dd>\n",
       "\t<dt>PriorDefault</dt>\n",
       "\t\t<dd>'factor'</dd>\n",
       "\t<dt>Employed</dt>\n",
       "\t\t<dd>'factor'</dd>\n",
       "\t<dt>CreditScore</dt>\n",
       "\t\t<dd>'integer'</dd>\n",
       "\t<dt>DriversLicense</dt>\n",
       "\t\t<dd>'factor'</dd>\n",
       "\t<dt>USCitizen</dt>\n",
       "\t\t<dd>'factor'</dd>\n",
       "\t<dt>Zip</dt>\n",
       "\t\t<dd>'factor'</dd>\n",
       "\t<dt>Income</dt>\n",
       "\t\t<dd>'integer'</dd>\n",
       "\t<dt>CardApproved</dt>\n",
       "\t\t<dd>'factor'</dd>\n",
       "</dl>\n"
      ],
      "text/latex": [
       "\\begin{description*}\n",
       "\\item[Gender] 'factor'\n",
       "\\item[Age] 'factor'\n",
       "\\item[Debt] 'numeric'\n",
       "\\item[Maritalstatus] 'factor'\n",
       "\\item[BankCustomer] 'factor'\n",
       "\\item[Education] 'factor'\n",
       "\\item[Ethnicity] 'factor'\n",
       "\\item[YearsEmployed] 'numeric'\n",
       "\\item[PriorDefault] 'factor'\n",
       "\\item[Employed] 'factor'\n",
       "\\item[CreditScore] 'integer'\n",
       "\\item[DriversLicense] 'factor'\n",
       "\\item[USCitizen] 'factor'\n",
       "\\item[Zip] 'factor'\n",
       "\\item[Income] 'integer'\n",
       "\\item[CardApproved] 'factor'\n",
       "\\end{description*}\n"
      ],
      "text/markdown": [
       "Gender\n",
       ":   'factor'Age\n",
       ":   'factor'Debt\n",
       ":   'numeric'Maritalstatus\n",
       ":   'factor'BankCustomer\n",
       ":   'factor'Education\n",
       ":   'factor'Ethnicity\n",
       ":   'factor'YearsEmployed\n",
       ":   'numeric'PriorDefault\n",
       ":   'factor'Employed\n",
       ":   'factor'CreditScore\n",
       ":   'integer'DriversLicense\n",
       ":   'factor'USCitizen\n",
       ":   'factor'Zip\n",
       ":   'factor'Income\n",
       ":   'integer'CardApproved\n",
       ":   'factor'\n",
       "\n"
      ],
      "text/plain": [
       "        Gender            Age           Debt  Maritalstatus   BankCustomer \n",
       "      \"factor\"       \"factor\"      \"numeric\"       \"factor\"       \"factor\" \n",
       "     Education      Ethnicity  YearsEmployed   PriorDefault       Employed \n",
       "      \"factor\"       \"factor\"      \"numeric\"       \"factor\"       \"factor\" \n",
       "   CreditScore DriversLicense      USCitizen            Zip         Income \n",
       "     \"integer\"       \"factor\"       \"factor\"       \"factor\"      \"integer\" \n",
       "  CardApproved \n",
       "      \"factor\" "
      ]
     },
     "metadata": {},
     "output_type": "display_data"
    }
   ],
   "source": [
    "#Viewing data type of each column:\n",
    "sapply(data, class)"
   ]
  },
  {
   "cell_type": "code",
   "execution_count": 5,
   "metadata": {},
   "outputs": [],
   "source": [
    "#changing '+' and '-' in CardApproved column to '1' and '0' respectively.\n",
    "data$CardApproved <- as.character(data$CardApproved)\n",
    "data$CardApproved[data$CardApproved=='-'] <- '0'\n",
    "data$CardApproved[data$CardApproved=='+'] <- '1'\n",
    "data$CardApproved <- as.factor(data$CardApproved)"
   ]
  },
  {
   "cell_type": "markdown",
   "metadata": {},
   "source": [
    "Working on Age feature \n",
    "\n",
    "Following 5 steps are to replace missing values in Age with suitable values found using linear regression\n"
   ]
  },
  {
   "cell_type": "code",
   "execution_count": 6,
   "metadata": {},
   "outputs": [
    {
     "name": "stderr",
     "output_type": "stream",
     "text": [
      "Warning message in eval(expr, envir, enclos):\n",
      "\"NAs introduced by coercion\""
     ]
    }
   ],
   "source": [
    "#1 changing the Age column from factor to numeric\n",
    "data$Age <- as.numeric(levels(data$Age))[data$Age]\n"
   ]
  },
  {
   "cell_type": "code",
   "execution_count": 7,
   "metadata": {},
   "outputs": [
    {
     "data": {
      "text/plain": [
       "      Age             Debt        YearsEmployed     CreditScore  \n",
       " Min.   :13.75   Min.   : 0.000   Min.   : 0.000   Min.   : 0.0  \n",
       " 1st Qu.:22.60   1st Qu.: 1.000   1st Qu.: 0.165   1st Qu.: 0.0  \n",
       " Median :28.46   Median : 2.750   Median : 1.000   Median : 0.0  \n",
       " Mean   :31.57   Mean   : 4.759   Mean   : 2.223   Mean   : 2.4  \n",
       " 3rd Qu.:38.23   3rd Qu.: 7.207   3rd Qu.: 2.625   3rd Qu.: 3.0  \n",
       " Max.   :80.25   Max.   :28.000   Max.   :28.500   Max.   :67.0  \n",
       " NA's   :12                                                      \n",
       "     Income        \n",
       " Min.   :     0.0  \n",
       " 1st Qu.:     0.0  \n",
       " Median :     5.0  \n",
       " Mean   :  1017.4  \n",
       " 3rd Qu.:   395.5  \n",
       " Max.   :100000.0  \n",
       "                   "
      ]
     },
     "metadata": {},
     "output_type": "display_data"
    }
   ],
   "source": [
    "#2 subsetting only the numeric columns of data. i.e age, debt, yearsEmployed, creditscore and income columns\n",
    " \n",
    "data_num <- names(data)[which(sapply(data, is.numeric))]\n",
    "\n",
    "cordata <- data[,data_num]\n",
    "summary(cordata)"
   ]
  },
  {
   "cell_type": "code",
   "execution_count": 8,
   "metadata": {},
   "outputs": [
    {
     "data": {},
     "metadata": {},
     "output_type": "display_data"
    },
    {
     "data": {
      "image/png": "[encoded data removed]",
      "text/plain": [
       "plot without title"
      ]
     },
     "metadata": {},
     "output_type": "display_data"
    }
   ],
   "source": [
    "#3 finding correlations among the above mentioned columns\n",
    "\n",
    "Agecor <- cor(na.omit(cordata))\n",
    "ggcorrplot(Agecor, lab = TRUE)\n"
   ]
  },
  {
   "cell_type": "markdown",
   "metadata": {},
   "source": [
    "We observed that Age and YearsEmployed have a better correlation than that of Age with any other feature.\n"
   ]
  },
  {
   "cell_type": "code",
   "execution_count": 9,
   "metadata": {},
   "outputs": [
    {
     "data": {
      "text/plain": [
       "\n",
       "Call:\n",
       "lm(formula = Age ~ YearsEmployed, data = cordata)\n",
       "\n",
       "Coefficients:\n",
       "  (Intercept)  YearsEmployed  \n",
       "       28.448          1.412  \n"
      ]
     },
     "metadata": {},
     "output_type": "display_data"
    }
   ],
   "source": [
    "#4 Thus we use linear regression model between Age and YearsEmployed\n",
    "cordata.lm <- lm(formula = Age ~ YearsEmployed, data = cordata)\n",
    "cordata.lm\n"
   ]
  },
  {
   "cell_type": "code",
   "execution_count": 10,
   "metadata": {},
   "outputs": [
    {
     "data": {
      "text/html": [],
      "text/latex": [],
      "text/markdown": [],
      "text/plain": [
       "integer(0)"
      ]
     },
     "metadata": {},
     "output_type": "display_data"
    }
   ],
   "source": [
    "#5 Finally, we predict the missing values in Age.\n",
    "pred_age <- predict.lm(cordata.lm , data = cordata$YearsEmployed)\n",
    "cordata$Age[is.na(cordata$Age)] <- pred_age[is.na(cordata$Age)]\n",
    "\n",
    "data$Age <- cordata$Age\n"
   ]
  },
  {
   "cell_type": "code",
   "execution_count": 11,
   "metadata": {},
   "outputs": [],
   "source": [
    "# Now we carry out normalization of Age. \n",
    "\n",
    "data$AgeNormal <- scale(data$Age)\n"
   ]
  },
  {
   "cell_type": "markdown",
   "metadata": {},
   "source": [
    "We can also carry out normalization using the method below. Both give same results.\n",
    "data$AgeNormal <- data$Age - mean(data$Age)\n",
    "data$AgeNormal <- data$AgeNormal/ sd(data$Age)\n"
   ]
  },
  {
   "cell_type": "code",
   "execution_count": 12,
   "metadata": {},
   "outputs": [
    {
     "data": {
      "image/png": "[encoded data removed]",
      "text/plain": [
       "Plot with title \"Histogram of AgeNormal\""
      ]
     },
     "metadata": {},
     "output_type": "display_data"
    }
   ],
   "source": [
    "#Next, we plot the histogram of unnormalized Age alongside normalized Age\n",
    "\n",
    "par(mfrow=c(1,2))\n",
    "hist(data$Age, main = 'Histogram of Age', xlab = 'Age', col = 'red', labels = TRUE)\n",
    "hist(data$AgeNormal, main = 'Histogram of AgeNormal', xlab = 'AgeNormal', col = 'yellow', labels = TRUE)\n"
   ]
  },
  {
   "cell_type": "markdown",
   "metadata": {},
   "source": [
    "One thing to note is that the data is skewed to the right because the tail is longer.\n"
   ]
  },
  {
   "cell_type": "code",
   "execution_count": 13,
   "metadata": {},
   "outputs": [
    {
     "data": {
      "image/png": "[encoded data removed]",
      "text/plain": [
       "Plot with title \"Distribution of AgeNormal by Credit Card Approval Status\""
      ]
     },
     "metadata": {},
     "output_type": "display_data"
    }
   ],
   "source": [
    "#Plotting the boxplot\n",
    "par(mfrow=c(1,1))\n",
    "boxplot(AgeNormal ~ CardApproved, data=data, horizontal = TRUE,\n",
    "        col=c(\"gold\",\"darkgreen\"), outcex=1, outpch=20, xlab = 'AgeNormal', ylab = 'Card Approval Status', main = 'Distribution of AgeNormal by Credit Card Approval Status') \n"
   ]
  },
  {
   "cell_type": "code",
   "execution_count": 14,
   "metadata": {},
   "outputs": [],
   "source": [
    "#Now we carry out the same steps for the remaining numeric features.\n",
    "\n",
    "data$DebtNormal <- scale(data$Debt)\n",
    "data$YearsEmployedNormal <- scale(data$YearsEmployed)\n",
    "data$CreditScoreNormal <- scale(data$CreditScore)\n",
    "data$IncomeNormal <- scale(data$Income)\n"
   ]
  },
  {
   "cell_type": "code",
   "execution_count": 15,
   "metadata": {},
   "outputs": [
    {
     "data": {
      "image/png": "[encoded data removed]",
      "text/plain": [
       "Plot with title \"Histogram of IncomeNormal\""
      ]
     },
     "metadata": {},
     "output_type": "display_data"
    }
   ],
   "source": [
    "#Histograms :\n",
    "\n",
    "par(mfrow=c(4,2))\n",
    "hist(data$Debt, main = 'Histogram of Debt', xlab = 'Debt', col = 'red', labels = TRUE)\n",
    "hist(data$DebtNormal, main = 'Histogram of DebtNormal', xlab = 'DebtNormal', col = 'yellow', labels = TRUE)\n",
    "\n",
    "hist(data$YearsEmployed, main = 'Histogram of YearsEmployed', xlab = 'YearsEmployed', col = 'red', labels = TRUE)\n",
    "hist(data$YearsEmployedNormal, main = 'Histogram of YearsEmployedNormal', xlab = 'YearsEmployedNormal', col = 'yellow', labels = TRUE)\n",
    "\n",
    "hist(data$CreditScore, main = 'Histogram of CreditScore', xlab = 'CreditScore', col = 'red', labels = TRUE)\n",
    "hist(data$CreditScoreNormal, main = 'Histogram of CreditScoreNormal', xlab = 'CreditScoreNormal', col = 'yellow', labels = TRUE)\n",
    "\n",
    "hist(data$Income, main = 'Histogram of Income', xlab = 'Income', col = 'red', labels = TRUE)\n",
    "hist(data$IncomeNormal, main = 'Histogram of IncomeNormal', xlab = 'IncomeNormal', col = 'yellow', labels = TRUE)\n"
   ]
  },
  {
   "cell_type": "markdown",
   "metadata": {},
   "source": [
    "After observing the histograms we can see that the data is skewed to the right.\n",
    "This indicates the median is less than the mean. \n"
   ]
  },
  {
   "cell_type": "code",
   "execution_count": 17,
   "metadata": {},
   "outputs": [
    {
     "data": {
      "image/png": "[encoded data removed]",
      "text/plain": [
       "Plot with title \"Distribution of IncomeNormal by Credit Card Approval Status\""
      ]
     },
     "metadata": {},
     "output_type": "display_data"
    }
   ],
   "source": [
    "#Boxplots:\n",
    "\n",
    "par(mfrow=c(4,1))\n",
    "\n",
    "boxplot(DebtNormal ~ CardApproved , data=data, horizontal = TRUE,  col=c(\"gold\", \"darkgreen\"), \n",
    "        outcex=1, outpch=20, xlab = 'DebtNormal', ylab = 'Card Approval Status', main = 'Distribution of DebtNormal by Credit Card Approval Status')\n",
    "\n",
    "\n",
    "boxplot(YearsEmployedNormal ~ CardApproved, data=data, horizontal = TRUE,  col=c(\"gold\", \"darkgreen\"), \n",
    "        outcex=1, outpch=20, xlab = 'YearsEmployedNormal', ylab = 'Card Approval Status', main = 'Distribution of YearsEmployedNormal by Credit Card Approval Status')\n",
    "\n",
    "boxplot(CreditScoreNormal  ~ CardApproved , data=data, horizontal = TRUE,  col=c(\"gold\", \"darkgreen\"), \n",
    "        outcex=1, outpch=20, xlab = 'CreditScoreNormal', ylab = 'Card Approval Status', main = 'Distribution of CreditScoreNormal by Credit Card Approval Status')\n",
    "\n",
    "\n",
    "\n",
    "boxplot(IncomeNormal ~ CardApproved, data=data, horizontal = TRUE,  col=c(\"gold\", \"darkgreen\"), \n",
    "        outcex=1, outpch=20, xlab = 'IncomeNormal', ylab = 'Card Approval Status', main = 'Distribution of IncomeNormal by Credit Card Approval Status')\n"
   ]
  },
  {
   "cell_type": "markdown",
   "metadata": {},
   "source": [
    "Here, we can see the distribution is different between the variables. Variance of IncomeNormal is the  least as the boxes are seen to be tightly grouped about the mean.\n",
    "\n",
    "Logarithmic transformation of the data would be more preferable.\n"
   ]
  },
  {
   "cell_type": "code",
   "execution_count": 18,
   "metadata": {},
   "outputs": [],
   "source": [
    "#Here, we take log of data first and then normalize :\n",
    "\n",
    "data$AgeLogN <- scale(log(data$Age + 1))\n",
    "data$DebtLogN <- scale(log(data$Debt + 1))\n",
    "data$YearsEmployedLogN <- scale(log(data$YearsEmployed + 1))\n",
    "data$CreditScoreLogN <- scale(log(data$CreditScore + 1))\n",
    "data$IncomeLogN <- scale(log(data$Income + 1))\n"
   ]
  },
  {
   "cell_type": "code",
   "execution_count": 19,
   "metadata": {},
   "outputs": [
    {
     "data": {
      "image/png": "[encoded data removed]",
      "text/plain": [
       "Plot with title \"Histogram of IncomeLogN\""
      ]
     },
     "metadata": {},
     "output_type": "display_data"
    }
   ],
   "source": [
    "#Again, we plot histograms and boxplots of the modified values.\n",
    "\n",
    "#Histograms :\n",
    "\n",
    "par(mfrow=c(5,2))\n",
    "\n",
    "hist(data$Age, main = 'Histogram of Age', xlab = 'Age', col = 'red', labels = TRUE)\n",
    "hist(data$AgeLogN, main = 'Histogram of AgeLogN', xlab = 'AgeLogN', col = 'yellow', labels = TRUE)\n",
    "\n",
    "hist(data$Debt, main = 'Histogram of Debt', xlab = 'Debt', col = 'red', labels = TRUE)\n",
    "hist(data$DebtLogN, main = 'Histogram of DebtLogN', xlab = 'DebtLogN', col = 'yellow', labels = TRUE)\n",
    "\n",
    "hist(data$YearsEmployed, main = 'Histogram of YearsEmployed', xlab = 'YearsEmployed', col = 'red', labels = TRUE)\n",
    "hist(data$YearsEmployedLogN, main = 'Histogram of YearsEmployedLogN', xlab = 'YearsEmployedLogN', col = 'yellow', labels = TRUE)\n",
    "\n",
    "hist(data$CreditScore, main = 'Histogram of CreditScore', xlab = 'CreditScore', col = 'red', labels = TRUE)\n",
    "hist(data$CreditScoreLogN, main = 'Histogram of CreditScoreLogN', xlab = 'CreditScoreLogN', col = 'yellow', labels = TRUE)\n",
    "\n",
    "hist(data$Income, main = 'Histogram of Income', xlab = 'Income', col = 'red', labels = TRUE)\n",
    "hist(data$IncomeLogN, main = 'Histogram of IncomeLogN', xlab = 'IncomeLogN', col = 'yellow', labels = TRUE)\n"
   ]
  },
  {
   "cell_type": "code",
   "execution_count": 20,
   "metadata": {},
   "outputs": [
    {
     "data": {
      "image/png": "[encoded data removed]",
      "text/plain": [
       "Plot with title \"Distribution of IncomeLogN by Credit Card Approval Status\""
      ]
     },
     "metadata": {},
     "output_type": "display_data"
    }
   ],
   "source": [
    "#Boxplots:\n",
    "\n",
    "par(mfrow=c(5,1))\n",
    "\n",
    "boxplot(AgeLogN ~ CardApproved, data=data, horizontal = TRUE,\n",
    "        col=c(\"gold\",\"darkgreen\"), outcex=1, outpch=20, xlab = 'AgeLogN', ylab = 'Card Approval Status', main = 'Distribution of AgeLogN by Credit Card Approval Status') \n",
    "\n",
    "\n",
    "boxplot(DebtLogN ~ CardApproved , data=data, horizontal = TRUE,  col=c(\"gold\", \"darkgreen\"), \n",
    "        outcex=1, outpch=20, xlab = 'DebtLogN', ylab = 'Card Approval Status', main = 'Distribution of DebtLogN by Credit Card Approval Status')\n",
    "\n",
    "\n",
    "boxplot(YearsEmployedLogN ~ CardApproved, data=data, horizontal = TRUE,  col=c(\"gold\", \"darkgreen\"), \n",
    "        outcex=1, outpch=20, xlab = 'YearsEmployedLogN', ylab = 'Card Approval Status', main = 'Distribution of YearsEmployedLogN by Credit Card Approval Status')\n",
    "\n",
    "boxplot(CreditScoreLogN  ~ CardApproved , data=data, horizontal = TRUE,  col=c(\"gold\", \"darkgreen\"), \n",
    "        outcex=1, outpch=20, xlab = 'CreditScoreLogN', ylab = 'Card Approval Status', main = 'Distribution of CreditScoreLogN by Credit Card Approval Status')\n",
    "\n",
    "boxplot(IncomeLogN ~ CardApproved, data=data, horizontal = TRUE,  col=c(\"gold\", \"darkgreen\"), \n",
    "        outcex=1, outpch=20, xlab = 'IncomeLogN', ylab = 'Card Approval Status', main = 'Distribution of IncomeLogN by Credit Card Approval Status')\n",
    "\n"
   ]
  },
  {
   "cell_type": "markdown",
   "metadata": {},
   "source": [
    "The boxplots add more informational value now because for each dataset the mean of the approved applications \n",
    "is further distributed from the mean of those denied. \n",
    "This difference will help the classifier algorithm to distinguish between the values later.\n",
    "We should specifically notice for the IncomeLogN and CreditScoreLogN variables that the applicants \n",
    "that did not receive credit card were still heavily skewed to the right when compared to those that were granted credit. \n",
    "This means that a low IncomeLog or CreditScoreLog score is likely a good predictor for making the application decision. \n"
   ]
  },
  {
   "cell_type": "code",
   "execution_count": 21,
   "metadata": {},
   "outputs": [
    {
     "data": {
      "image/png": "[encoded data removed]",
      "text/plain": [
       "Plot with title \"Card Approval vs Prior Default\""
      ]
     },
     "metadata": {},
     "output_type": "display_data"
    }
   ],
   "source": [
    "#NOW WORKING WITH CATEGORICAL VARIABLES\n",
    "\n",
    "#1 PriorDefault\n",
    "\n",
    "#We construct the bar plot\n",
    "par(mfrow=c(1,1))\n",
    "par(las=1)    # Orient all axis labels horizontally\n",
    "par(mar=c(5, 4, 4, 2.2) + 0.1)    # Widen right margin slightly, to fit horizontal labels\n",
    "plot(CardApproved ~ PriorDefault, data= data, main=\"Card Approval vs Prior Default\",\n",
    "     xlab=\"Prior Default\", ylab=\"Card Approved\")\n"
   ]
  },
  {
   "cell_type": "markdown",
   "metadata": {},
   "source": [
    "Thus we can clearly see that priordefault has a significant effect on CardApproval\n"
   ]
  },
  {
   "cell_type": "code",
   "execution_count": 22,
   "metadata": {},
   "outputs": [
    {
     "data": {
      "image/png": "[encoded data removed]",
      "text/plain": [
       "Plot with title \"Card Approval vs Employment Status\""
      ]
     },
     "metadata": {},
     "output_type": "display_data"
    }
   ],
   "source": [
    "#2 Employment Status\n",
    "\n",
    "\n",
    "par(las=1)    # Orient all axis labels horizontally\n",
    "par(mar=c(5, 4, 4, 2.2) + 0.1)    # Widen right margin slightly, to fit horizontal labels\n",
    "plot(CardApproved ~ Employed, data= data, main=\"Card Approval vs Employment Status\",\n",
    "     xlab=\"Employment Status\", ylab=\"Card Approved\")\n",
    "\n"
   ]
  },
  {
   "cell_type": "code",
   "execution_count": 23,
   "metadata": {},
   "outputs": [
    {
     "data": {
      "text/plain": [
       "\n",
       "  ?   a   b \n",
       " 12 210 468 "
      ]
     },
     "metadata": {},
     "output_type": "display_data"
    }
   ],
   "source": [
    "#3 Gender\n",
    "\n",
    "table(data$Gender) \n"
   ]
  },
  {
   "cell_type": "code",
   "execution_count": 24,
   "metadata": {},
   "outputs": [
    {
     "data": {
      "text/plain": [
       "\n",
       "  a   b \n",
       "210 480 "
      ]
     },
     "metadata": {},
     "output_type": "display_data"
    }
   ],
   "source": [
    "#There are only 12 missing values in Gender. \n",
    "#For simplicity we replace them by the most recurring value in that column, i.e. 'b' \n",
    "\n",
    "data$Gender <- as.character(data$Gender)\n",
    "data$Gender[data$Gender == '?'] <- 'b'\n",
    "data$Gender <- as.factor(data$Gender)\n",
    "table(data$Gender)"
   ]
  },
  {
   "cell_type": "markdown",
   "metadata": {},
   "source": [
    "Now that we have preprocessed the data, we begin with the modelling. \n",
    "First we try Logistic Regression."
   ]
  },
  {
   "cell_type": "code",
   "execution_count": 25,
   "metadata": {},
   "outputs": [
    {
     "data": {
      "text/plain": [
       "\n",
       "  0   1 \n",
       "287 230 "
      ]
     },
     "metadata": {},
     "output_type": "display_data"
    }
   ],
   "source": [
    "#Removing the norm columns \n",
    "data <- data[,-c(17:21)]\n",
    "\n",
    "#Spliting the data into Training and Testing data\n",
    "set.seed(1234)\n",
    "\n",
    "split <- sample.split(data$CardApproved, SplitRatio = 0.75)\n",
    "training_set = subset(data, split == TRUE)\n",
    "test_set = subset(data, split == FALSE)\n",
    "table(training_set$CardApproved)  "
   ]
  },
  {
   "cell_type": "markdown",
   "metadata": {},
   "source": [
    "We can observe the CardApproval classes (1 , 0) are almost equally distributed.\n",
    "In case the distrubtion was uneven, we could have used oversampling / undersamping / synthetic sampling techniques to make it even.\n"
   ]
  },
  {
   "cell_type": "code",
   "execution_count": 26,
   "metadata": {},
   "outputs": [
    {
     "data": {
      "text/plain": [
       "\n",
       "Call:\n",
       "glm(formula = CardApproved ~ AgeLogN + DebtLogN + YearsEmployedLogN + \n",
       "    CreditScoreLogN + IncomeLogN, family = binomial, data = training_set)\n",
       "\n",
       "Deviance Residuals: \n",
       "    Min       1Q   Median       3Q      Max  \n",
       "-2.4489  -0.7597  -0.4665   0.6869   2.2710  \n",
       "\n",
       "Coefficients:\n",
       "                   Estimate Std. Error z value Pr(>|z|)    \n",
       "(Intercept)       -0.206964   0.111721  -1.853 0.063953 .  \n",
       "AgeLogN           -0.006249   0.117427  -0.053 0.957559    \n",
       "DebtLogN           0.172087   0.112324   1.532 0.125508    \n",
       "YearsEmployedLogN  0.765234   0.124943   6.125 9.09e-10 ***\n",
       "CreditScoreLogN    0.980819   0.133211   7.363 1.80e-13 ***\n",
       "IncomeLogN         0.446848   0.118527   3.770 0.000163 ***\n",
       "---\n",
       "Signif. codes:  0 '***' 0.001 '**' 0.01 '*' 0.05 '.' 0.1 ' ' 1\n",
       "\n",
       "(Dispersion parameter for binomial family taken to be 1)\n",
       "\n",
       "    Null deviance: 710.42  on 516  degrees of freedom\n",
       "Residual deviance: 501.24  on 511  degrees of freedom\n",
       "AIC: 513.24\n",
       "\n",
       "Number of Fisher Scoring iterations: 5\n"
      ]
     },
     "metadata": {},
     "output_type": "display_data"
    },
    {
     "data": {
      "text/plain": [
       "   \n",
       "    FALSE TRUE\n",
       "  0   246   41\n",
       "  1    74  156"
      ]
     },
     "metadata": {},
     "output_type": "display_data"
    }
   ],
   "source": [
    "classifier1 <- glm(formula = CardApproved ~ AgeLogN + DebtLogN + YearsEmployedLogN + \n",
    "                     CreditScoreLogN + IncomeLogN, family = binomial, data = training_set)\n",
    "\n",
    "\n",
    "prob_pred1 = predict(classifier1, type = 'response', newdata = training_set[-16])\n",
    "y_pred1 = ifelse(prob_pred1 > 0.5, 1, 0)\n",
    "\n",
    "# Making the Confusion Matrix\n",
    "cm1 = table(training_set[,16], y_pred1 > 0.5)\n",
    "\n",
    "summary(classifier1)\n",
    "cm1"
   ]
  },
  {
   "cell_type": "code",
   "execution_count": 27,
   "metadata": {},
   "outputs": [
    {
     "data": {
      "text/plain": [
       "\n",
       "Call:\n",
       "glm(formula = CardApproved ~ YearsEmployedLogN + CreditScoreLogN + \n",
       "    IncomeLogN, family = binomial, data = training_set)\n",
       "\n",
       "Deviance Residuals: \n",
       "    Min       1Q   Median       3Q      Max  \n",
       "-2.4209  -0.7462  -0.4697   0.6973   2.1612  \n",
       "\n",
       "Coefficients:\n",
       "                  Estimate Std. Error z value Pr(>|z|)    \n",
       "(Intercept)        -0.2070     0.1113  -1.861 0.062767 .  \n",
       "YearsEmployedLogN   0.7872     0.1193   6.598 4.16e-11 ***\n",
       "CreditScoreLogN     0.9910     0.1323   7.490 6.90e-14 ***\n",
       "IncomeLogN          0.4522     0.1185   3.817 0.000135 ***\n",
       "---\n",
       "Signif. codes:  0 '***' 0.001 '**' 0.01 '*' 0.05 '.' 0.1 ' ' 1\n",
       "\n",
       "(Dispersion parameter for binomial family taken to be 1)\n",
       "\n",
       "    Null deviance: 710.42  on 516  degrees of freedom\n",
       "Residual deviance: 503.59  on 513  degrees of freedom\n",
       "AIC: 511.59\n",
       "\n",
       "Number of Fisher Scoring iterations: 5\n"
      ]
     },
     "metadata": {},
     "output_type": "display_data"
    },
    {
     "data": {
      "text/plain": [
       "   \n",
       "    FALSE TRUE\n",
       "  0   244   43\n",
       "  1    78  152"
      ]
     },
     "metadata": {},
     "output_type": "display_data"
    }
   ],
   "source": [
    "classifier2 <- glm(formula = CardApproved ~ YearsEmployedLogN + \n",
    "                     CreditScoreLogN + IncomeLogN, family = binomial, data = training_set)\n",
    "\n",
    "prob_pred2 = predict(classifier2, type = 'response', newdata = training_set[-16])\n",
    "y_pred2 = ifelse(prob_pred2 > 0.5, 1, 0)\n",
    "\n",
    "# Making the Confusion Matrix\n",
    "cm2 = table(training_set[,16], y_pred2 > 0.5)\n",
    "summary(classifier2)\n",
    "cm2"
   ]
  },
  {
   "cell_type": "code",
   "execution_count": 28,
   "metadata": {},
   "outputs": [
    {
     "data": {
      "text/plain": [
       "\n",
       "Call:\n",
       "glm(formula = CardApproved ~ PriorDefault + AgeLogN + DebtLogN + \n",
       "    Employed + YearsEmployedLogN + CreditScoreLogN + IncomeLogN, \n",
       "    family = binomial, data = training_set)\n",
       "\n",
       "Deviance Residuals: \n",
       "    Min       1Q   Median       3Q      Max  \n",
       "-2.3923  -0.3689  -0.2277   0.4937   2.9091  \n",
       "\n",
       "Coefficients:\n",
       "                  Estimate Std. Error z value Pr(>|z|)    \n",
       "(Intercept)       -2.32196    0.38567  -6.021 1.74e-09 ***\n",
       "PriorDefaultt      3.49474    0.33925  10.301  < 2e-16 ***\n",
       "AgeLogN           -0.19298    0.14461  -1.334 0.182048    \n",
       "DebtLogN          -0.04101    0.14014  -0.293 0.769826    \n",
       "Employedt         -0.17321    0.54528  -0.318 0.750746    \n",
       "YearsEmployedLogN  0.46748    0.15136   3.089 0.002011 ** \n",
       "CreditScoreLogN    0.66172    0.30647   2.159 0.030838 *  \n",
       "IncomeLogN         0.49681    0.15028   3.306 0.000946 ***\n",
       "---\n",
       "Signif. codes:  0 '***' 0.001 '**' 0.01 '*' 0.05 '.' 0.1 ' ' 1\n",
       "\n",
       "(Dispersion parameter for binomial family taken to be 1)\n",
       "\n",
       "    Null deviance: 710.42  on 516  degrees of freedom\n",
       "Residual deviance: 344.40  on 509  degrees of freedom\n",
       "AIC: 360.4\n",
       "\n",
       "Number of Fisher Scoring iterations: 5\n"
      ]
     },
     "metadata": {},
     "output_type": "display_data"
    },
    {
     "data": {
      "text/plain": [
       "   \n",
       "    FALSE TRUE\n",
       "  0   240   47\n",
       "  1    25  205"
      ]
     },
     "metadata": {},
     "output_type": "display_data"
    }
   ],
   "source": [
    "classifier3 <- glm(formula = CardApproved ~ PriorDefault + AgeLogN + DebtLogN + Employed +YearsEmployedLogN+\n",
    "                     CreditScoreLogN + IncomeLogN, family = binomial, data = training_set)\n",
    "\n",
    "prob_pred3 = predict(classifier3, type = 'response', newdata = training_set[-16])\n",
    "y_pred3 = ifelse(prob_pred3 > 0.5, 1, 0)\n",
    "\n",
    "# Making the Confusion Matrix\n",
    "cm3 = table(training_set[,16], y_pred3 > 0.5)\n",
    "summary(classifier3)\n",
    "cm3\n"
   ]
  },
  {
   "cell_type": "code",
   "execution_count": 30,
   "metadata": {},
   "outputs": [
    {
     "data": {
      "text/plain": [
       "\n",
       "Call:\n",
       "glm(formula = CardApproved ~ PriorDefault + YearsEmployedLogN + \n",
       "    CreditScoreLogN + IncomeLogN, family = binomial, data = training_set)\n",
       "\n",
       "Deviance Residuals: \n",
       "    Min       1Q   Median       3Q      Max  \n",
       "-2.3467  -0.3650  -0.2285   0.4836   2.7281  \n",
       "\n",
       "Coefficients:\n",
       "                  Estimate Std. Error z value Pr(>|z|)    \n",
       "(Intercept)        -2.3606     0.2850  -8.284  < 2e-16 ***\n",
       "PriorDefaultt       3.4268     0.3303  10.376  < 2e-16 ***\n",
       "YearsEmployedLogN   0.4135     0.1465   2.821 0.004782 ** \n",
       "CreditScoreLogN     0.5820     0.1633   3.565 0.000365 ***\n",
       "IncomeLogN          0.4803     0.1494   3.214 0.001310 ** \n",
       "---\n",
       "Signif. codes:  0 '***' 0.001 '**' 0.01 '*' 0.05 '.' 0.1 ' ' 1\n",
       "\n",
       "(Dispersion parameter for binomial family taken to be 1)\n",
       "\n",
       "    Null deviance: 710.42  on 516  degrees of freedom\n",
       "Residual deviance: 346.32  on 512  degrees of freedom\n",
       "AIC: 356.32\n",
       "\n",
       "Number of Fisher Scoring iterations: 5\n"
      ]
     },
     "metadata": {},
     "output_type": "display_data"
    },
    {
     "data": {
      "text/plain": [
       "   \n",
       "    FALSE TRUE\n",
       "  0   239   48\n",
       "  1    25  205"
      ]
     },
     "metadata": {},
     "output_type": "display_data"
    }
   ],
   "source": [
    "classifier4 <- glm(formula = CardApproved ~ PriorDefault + YearsEmployedLogN+\n",
    "                     CreditScoreLogN + IncomeLogN, family = binomial, data = training_set)\n",
    "\n",
    "prob_pred4 = predict(classifier4, type = 'response', newdata = training_set[-16])\n",
    "y_pred4 = ifelse(prob_pred4 > 0.5, 1, 0)\n",
    "\n",
    "# Making the Confusion Matrix\n",
    "cm4 = table(training_set[,16], y_pred4 > 0.5)\n",
    "summary(classifier4)\n",
    "cm4"
   ]
  },
  {
   "cell_type": "code",
   "execution_count": 31,
   "metadata": {},
   "outputs": [
    {
     "data": {
      "text/plain": [
       "   \n",
       "    FALSE TRUE\n",
       "  0    82   14\n",
       "  1    12   65"
      ]
     },
     "metadata": {},
     "output_type": "display_data"
    }
   ],
   "source": [
    "#TEST \n",
    "#We compare two classifiers : classifier 3 and classifier 4\n",
    "\n",
    "prob_predt3 = predict(classifier3, type = 'response', newdata = test_set[-16])\n",
    "y_predt3 = ifelse(prob_predt3 > 0.5, 1, 0)\n",
    "\n",
    "# Making the Confusion Matrix\n",
    "cmt3 = table(test_set[,16], y_predt3 > 0.5)\n",
    "cmt3"
   ]
  },
  {
   "cell_type": "markdown",
   "metadata": {},
   "source": [
    "Here we have , 15.03% misclassification error. "
   ]
  },
  {
   "cell_type": "code",
   "execution_count": 32,
   "metadata": {},
   "outputs": [
    {
     "data": {
      "text/plain": [
       "   \n",
       "    FALSE TRUE\n",
       "  0    85   11\n",
       "  1    12   65"
      ]
     },
     "metadata": {},
     "output_type": "display_data"
    }
   ],
   "source": [
    "prob_predt4 = predict(classifier4, type = 'response', newdata = test_set[-16])\n",
    "y_predt4 = ifelse(prob_predt4 > 0.5, 1, 0)\n",
    "\n",
    "# Making the Confusion Matrix\n",
    "cmt4 = table(test_set[,16], y_predt4 > 0.5)\n",
    "cmt4"
   ]
  },
  {
   "cell_type": "markdown",
   "metadata": {},
   "source": [
    "For classifier 4, we got misclassification error = 13.29%"
   ]
  },
  {
   "cell_type": "markdown",
   "metadata": {},
   "source": [
    "Thus, we can say, even though the in training accuracy both classifiers was almost equal, classifier 4 is the better model which can be proved by comparing at the AIC values of both. Lower AIC indicates better modelling."
   ]
  },
  {
   "cell_type": "code",
   "execution_count": 33,
   "metadata": {},
   "outputs": [
    {
     "data": {
      "text/html": [
       "13.2947976878613"
      ],
      "text/latex": [
       "13.2947976878613"
      ],
      "text/markdown": [
       "13.2947976878613"
      ],
      "text/plain": [
       "[1] 13.2948"
      ]
     },
     "metadata": {},
     "output_type": "display_data"
    }
   ],
   "source": [
    "#Therefore for Logistic Regression, we can say Misclassification error is:\n",
    "\n",
    "MisclassificationError_LR = (cmt4[1,2]+cmt4[2,1])/nrow(test_set)*100\n",
    "MisclassificationError_LR "
   ]
  },
  {
   "cell_type": "code",
   "execution_count": 35,
   "metadata": {},
   "outputs": [
    {
     "data": {
      "text/html": [
       "0.552688207799395"
      ],
      "text/latex": [
       "0.552688207799395"
      ],
      "text/markdown": [
       "0.552688207799395"
      ],
      "text/plain": [
       "[1] 0.5526882"
      ]
     },
     "metadata": {},
     "output_type": "display_data"
    },
    {
     "data": {
      "image/png": "[encoded data removed]",
      "text/plain": [
       "plot without title"
      ]
     },
     "metadata": {},
     "output_type": "display_data"
    }
   ],
   "source": [
    "#find optimal threshold:\n",
    "#for Classifier3\n",
    "oc3 <- optimalCutoff(test_set$CardApproved, prob_predt3)[1] \n",
    "oc3\n",
    "\n",
    "yp3 = ifelse(prob_predt3 > oc, 1, 0)\n",
    "\n",
    "#roc.curve(test_set$CardApproved, yp3)\n",
    "plotROC(test_set$CardApproved, yp3)\n"
   ]
  },
  {
   "cell_type": "code",
   "execution_count": 36,
   "metadata": {},
   "outputs": [
    {
     "data": {
      "text/html": [
       "0.492440992652946"
      ],
      "text/latex": [
       "0.492440992652946"
      ],
      "text/markdown": [
       "0.492440992652946"
      ],
      "text/plain": [
       "[1] 0.492441"
      ]
     },
     "metadata": {},
     "output_type": "display_data"
    },
    {
     "data": {
      "image/png": "[encoded data removed]",
      "text/plain": [
       "plot without title"
      ]
     },
     "metadata": {},
     "output_type": "display_data"
    }
   ],
   "source": [
    "#find optimal threshold:\n",
    "#for Classifier4\n",
    "oc4 <- optimalCutoff(test_set$CardApproved, prob_predt4)[1] \n",
    "oc4\n",
    "\n",
    "yp4 = ifelse(prob_predt4 > oc, 1, 0)\n",
    "\n",
    "#roc.curve(test_set$CardApproved, yp4)\n",
    "plotROC(test_set$CardApproved, yp4)\n"
   ]
  },
  {
   "cell_type": "markdown",
   "metadata": {},
   "source": [
    "Thus, we can see the increase in Accuracy from classifier 3 to classifier 4."
   ]
  },
  {
   "cell_type": "markdown",
   "metadata": {},
   "source": [
    "After Logistic Regression, we use RandomForest Method."
   ]
  },
  {
   "cell_type": "code",
   "execution_count": 92,
   "metadata": {},
   "outputs": [
    {
     "data": {
      "text/plain": [
       "   y_predRF\n",
       "      0   1\n",
       "  0 286   1\n",
       "  1   0 230"
      ]
     },
     "metadata": {},
     "output_type": "display_data"
    }
   ],
   "source": [
    "RFTrain <-  data[c(16,1:13,15,17:21)] \n",
    "set.seed(1324)\n",
    "splitRF = sample.split(RFTrain$CardApproved, SplitRatio = 0.75)\n",
    "training_setRF = subset(RFTrain, splitRF == TRUE)\n",
    "test_setRF = subset(RFTrain, splitRF == FALSE)\n",
    "\n",
    "\n",
    "classifierRF = randomForest(x = training_setRF[-1],\n",
    "                          y = training_setRF$CardApproved,\n",
    "                          ntree = 70)\n",
    "\n",
    "# Predicting the Training  set results\n",
    "y_predRF = predict(classifierRF, newdata = training_setRF[-1])\n",
    "\n",
    "# Making the Confusion Matrix\n",
    "cmRF = table(training_setRF[, 1], y_predRF)\n",
    "cmRF"
   ]
  },
  {
   "cell_type": "code",
   "execution_count": 93,
   "metadata": {},
   "outputs": [
    {
     "data": {
      "text/plain": [
       "   y_predtRF\n",
       "     0  1\n",
       "  0 89  7\n",
       "  1 10 67"
      ]
     },
     "metadata": {},
     "output_type": "display_data"
    }
   ],
   "source": [
    "# Predicting the Test set results\n",
    "y_predtRF = predict(classifierRF, newdata = test_setRF[-1])\n",
    "\n",
    "# Making the Confusion Matrix\n",
    "cmtRF = table(test_setRF[, 1], y_predtRF)\n",
    "cmtRF"
   ]
  },
  {
   "cell_type": "code",
   "execution_count": 94,
   "metadata": {},
   "outputs": [
    {
     "data": {
      "text/html": [
       "9.82658959537572"
      ],
      "text/latex": [
       "9.82658959537572"
      ],
      "text/markdown": [
       "9.82658959537572"
      ],
      "text/plain": [
       "[1] 9.82659"
      ]
     },
     "metadata": {},
     "output_type": "display_data"
    }
   ],
   "source": [
    "MisclassificationError_RF = (cmtRF[1,2]+cmtRF[2,1])/nrow(test_set)*100\n",
    "\n",
    "MisclassificationError_RF"
   ]
  },
  {
   "cell_type": "markdown",
   "metadata": {},
   "source": [
    "Thus, we can see Random Forest has comparatively lesser misclassification error than Logistic Regression."
   ]
  }
 ],
 "metadata": {
  "kernelspec": {
   "display_name": "R",
   "language": "R",
   "name": "ir"
  },
  "language_info": {
   "codemirror_mode": "r",
   "file_extension": ".r",
   "mimetype": "text/x-r-source",
   "name": "R",
   "pygments_lexer": "r",
   "version": "3.5.1"
  }
 },
 "nbformat": 4,
 "nbformat_minor": 2
}
